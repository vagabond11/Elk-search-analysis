{
 "cells": [
  {
   "cell_type": "markdown",
   "metadata": {},
   "source": [
    "# Collecting and Pre-processing Quran data : "
   ]
  },
  {
   "cell_type": "code",
   "execution_count": 1,
   "metadata": {},
   "outputs": [
    {
     "name": "stdout",
     "output_type": "stream",
     "text": [
      "Librairies Loaded\n"
     ]
    }
   ],
   "source": [
    "try:\n",
    "    import json\n",
    "    import csv\n",
    "    import pandas as pd\n",
    "    import codecs\n",
    "    import pyodbc \n",
    "    from tqdm.notebook import tqdm\n",
    "    print(\"Librairies Loaded\")\n",
    "    \n",
    "except Exception as e:\n",
    "    print(\"Error, missing librairies : {} \".format(e))"
   ]
  },
  {
   "cell_type": "code",
   "execution_count": 12,
   "metadata": {
    "scrolled": true
   },
   "outputs": [
    {
     "name": "stdout",
     "output_type": "stream",
     "text": [
      "  % Total    % Received % Xferd  Average Speed   Time    Time     Time  Current\n",
      "                                 Dload  Upload   Total   Spent    Left  Speed\n",
      "100 1751k  100 1751k    0     0   988k      0  0:00:01  0:00:01 --:--:--  987k\n",
      "  % Total    % Received % Xferd  Average Speed   Time    Time     Time  Current\n",
      "                                 Dload  Upload   Total   Spent    Left  Speed\n",
      "100 22365  100 22365    0     0  79590      0 --:--:-- --:--:-- --:--:-- 79590\n"
     ]
    }
   ],
   "source": [
    "# instated of using the json her, you can build your own json file or at least use an offline file \n",
    "!curl https://raw.githubusercontent.com/risan/quran-json/master/json/quran/text.pretty.json > data/verses.json\n",
    "!curl https://raw.githubusercontent.com/risan/quran-json/master/json/surahs.pretty.json > data/surahs.json"
   ]
  },
  {
   "cell_type": "code",
   "execution_count": 13,
   "metadata": {},
   "outputs": [
    {
     "data": {
      "text/plain": [
       "({'number': 2,\n",
       "  'name': 'سورة البقرة',\n",
       "  'transliteration_en': 'Al-Baqara',\n",
       "  'translation_en': 'The Cow',\n",
       "  'total_verses': 286,\n",
       "  'revelation_type': 'Medinan'},\n",
       " {'surah_number': 1,\n",
       "  'verse_number': 5,\n",
       "  'content': 'إِيَّاكَ نَعْبُدُ وَإِيَّاكَ نَسْتَعِينُ'})"
      ]
     },
     "execution_count": 13,
     "metadata": {},
     "output_type": "execute_result"
    }
   ],
   "source": [
    "# reading documents with the utf-8-sig paramter to decode arabic characters \n",
    "surahs = codecs.open('data/surahs.json', 'r', 'utf-8-sig')\n",
    "verses = codecs.open('data/verses.json', 'r', 'utf-8-sig')\n",
    "\n",
    "json_surat = json.load(surahs)\n",
    "json_ayat = json.load(verses)\n",
    "\n",
    "# testing loaded data\n",
    "json_surat[1], json_ayat[4]"
   ]
  },
  {
   "cell_type": "code",
   "execution_count": 14,
   "metadata": {},
   "outputs": [
    {
     "data": {
      "text/plain": [
       "{'index': '2', 'sura': '1', 'aya': '2', 'text': 'الحمد لله رب العالمين'}"
      ]
     },
     "execution_count": 14,
     "metadata": {},
     "output_type": "execute_result"
    }
   ],
   "source": [
    "no_chakl = codecs.open('data/quran_no_chakl.json', 'r', 'utf-8-sig')\n",
    "json_no_chakl = json.load(no_chakl)\n",
    "json_no_chakl[1]"
   ]
  },
  {
   "cell_type": "markdown",
   "metadata": {},
   "source": [
    "## Connecting to Sql Server in order to collect tafseer data"
   ]
  },
  {
   "cell_type": "code",
   "execution_count": 15,
   "metadata": {},
   "outputs": [],
   "source": [
    "server = 'localhost'\n",
    "database = 'quran'\n",
    "username = 'sa'\n",
    "password = 'Qwerty_123'\n",
    "cnxn = pyodbc.connect('DRIVER={ODBC Driver 17 for SQL Server};SERVER='+server+';DATABASE='+database+';UID='+username+';PWD='+ password)\n",
    "cursor = cnxn.cursor()"
   ]
  },
  {
   "cell_type": "code",
   "execution_count": 16,
   "metadata": {
    "collapsed": true
   },
   "outputs": [
    {
     "name": "stdout",
     "output_type": "stream",
     "text": [
      " aya_index_quran:  1 \n",
      " sura_index:  1 \n",
      " aya_index_sura:  1 \n",
      " tafsir:\n",
      "  ( بسم الله الرحمن الرحيم ) بسم الله الباء أداة تخفض ما بعدها مثل من وعن والمتعلق به الباء محذوف لدلالة الكلام عليه تقديره أبدأ بسم الله أو قل بسم الله . وأسقطت الألف من الاسم طلبا للخفة وكثرة استعمالها وطولت الباء قال القتيبي ليكون افتتاح كلام كتاب الله بحرف معظم كان عمر بن عبد العزيز رحمه الله يقول لكتابه طولوا الباء وأظهروا السين وفرجوا بينهما ودوروا الميم . تعظيما لكتاب الله تعالى وقيل لما أسقطوا الألف ردوا طول الألف على الباء ليكون دالا على سقوط الألف ألا ترى أنه لما كتبت الألف في \" اقرأ باسم ربك \" ( 1 - العلق ) ردت الباء إلى صيغتها ولا تحذف الألف إذا أضيف الاسم إلى غير الله ولا مع غير الباء .والاسم هو المسمى وعينه وذاته قال الله تعالى : \" إنا نبشرك بغلام اسمه يحيى \" ( 7 - مريم ) أخبر أن اسمه يحيى ثم نادى الاسم فقال : يا يحيى \" وقال : ما تعبدون من دونه إلا أسماء سميتموها \" ( 40 - يوسف ) وأراد الأشخاص المعبودة لأنهم كانوا يعبدون المسميات وقال : سبح اسم ربك \" ( 1 - الأعلى ) ، وتبارك اسم ربك \" ثم يقال للتسمية أيضا اسم فاستعماله في التسمية أكثر من المسمى فإن قيل ما معنى التسمية من الله لنفسه؟ قيل هو تعليم للعباد كيف يفتتحون القراءة .واختلفوا في اشتقاقه قال المبرد من البصريين هو مشتق من السمو وهو العلو فكأنه علا على معناه وظهر عليه وصار معناه تحته وقال ثعلب من الكوفيين : هو من الوسم والسمة وهي العلامة وكأنه علامة لمعناه والأول أصح لأنه يصغر على السمي ولو كان من السمة لكان يصغر على الوسيم كما يقال في الوعد وعيد ويقال في تصريفه سميت ولو كان من الوسم لقيل وسمت . قوله تعالى \" الله \" قال الخليل وجماعة هو اسم علم خاص لله عز وجل لا اشتقاق له كأسماء الأعلام للعباد مثل زيد وعمرو . وقال جماعة هو مشتق ثم اختلفوا في اشتقاقه فقيل من أله إلاهة أي عبد عبادة وقرأ ابن عباس رضي الله عنهما \" ويذرك وآلهتك \" ( 127 - الأعراف ) أي عبادتك - معناه أنه مستحق للعبادة دون غيره وقيل أصله إله قال الله عز وجل \" وما كان معه من إله إذا لذهب كل إله بما خلق \" ( 91 - المؤمنون ) قال المبرد : هو من قول العرب ألهت إلى فلان أي سكنت إليه قال الشاعرألهت إليها والحوادث جمةفكأن الخلق يسكنون إليه ويطمئنون بذكره ويقال ألهت إليه أي فزعت إليه قال الشاعرألهت إليها والركائب وقفوقيل أصل الإله \" ولاه \" فأبدلت الواو بالهمزة مثل وشاح وإشاح اشتقاقه من الوله لأن العباد يولهون إليه أي يفزعون إليه في الشدائد ويلجئون إليه في الحوائج كما يوله كل طفل إلى أمه وقيل هو من الوله وهو ذهاب العقل لفقد من يعز عليك .قوله ( الرحمن الرحيم ) قال ابن عباس رضي الله عنهما هما اسمان رقيقان أحدهما أرق من الآخر . واختلفوا فيهما منهم من قال هما بمعنى واحد مثل ندمان ونديم ومعناهما ذو الرحمة وذكر أحدهما بعد الآخر تطميعا لقلوب الراغبين . وقال المبرد : هو إنعام بعد إنعام وتفضل بعد تفضل ومنهم من فرق بينهما فقال الرحمن بمعنى العموم والرحيم بمعنى الخصوص . فالرحمن بمعنى الرزاق في الدنيا وهو على العموم لكافة الخلق . والرحيم بمعنى المعافي في الآخرة والعفو في الآخرة للمؤمنين على الخصوص ولذلك قيل في الدعاء يا رحمن الدنيا ورحيم الآخرة فالرحمن من تصل رحمته إلى الخلق على العموم والرحيم من تصل رحمته إليهم على الخصوص ولذلك يدعى غير الله رحيما ولا يدعى غير الله رحمن . فالرحمن عام المعنى خاص اللفظ والرحيم عام اللفظ خاص المعنى والرحمة إرادة الله تعالى الخير لأهله . وقيل هي ترك عقوبة من يستحقها وإسداء الخير إلى من لا يستحق فهي على الأول صفة ذات وعلى الثاني صفة ( فعل ) .واختلفوا في آية التسمية فذهب قراء المدينة والبصرة وفقهاء الكوفة إلى أنها ليست من فاتحة الكتاب ولا من غيرها من السور والافتتاح بها للتيمن والتبرك . وذهب قراء مكة والكوفة وأكثر فقهاء الحجاز إلى أنها من الفاتحة وليست من سائر السور وأنها كتبت للفصل وذهب جماعة إلى أنها من الفاتحة ومن كل سورة إلا سورة التوبة وهو قول الثوري وابن المبارك والشافعي لأنها كتبت في المصحف بخط سائر القرآن .واتفقوا على أن الفاتحة سبع آيات فالآية الأولى عند من يعدها من الفاتحة ( بسم الله الرحمن الرحيم ) وابتداء الآية الأخيرة ( صراط الذين ) ومن لم يعدها من الفاتحة قال ابتداؤها \" الحمد لله رب العالمين \" وابتداء الآية الأخيرة \" غير المغضوب عليهم \" واحتج من جعلها من الفاتحة ومن السور بأنها كتبت في المصحف بخط القرآن وبما أخبرنا عبد الوهاب بن محمد الكسائي أنا أبو محمد عبد العزيز بن أحمد الخلال ثنا أبو العباس محمد بن يعقوب الأصم أنا الربيع بن سليمان أنا الشافعي أنا عبد المجيد عن ابن جريج قال أخبرني أبي عن سعيد بن جبير ( قال ) \" ولقد آتيناك سبعا من المثاني والقرآن العظيم \" ( 87 - الحجر ) هي أم القرآن قال أبي وقرأها علي سعيد بن جبير حتى ختمها ثم قال : بسم الله الرحمن الرحيم \" الآية السابعة قال سعيد : قرأتها على ابن عباس كما قرأتها عليك ثم قال بسم الله الرحمن الرحيم الآية السابعة ، قال ابن عباس : فذخرها لكم فما أخرجها لأحد قبلكم .\n"
     ]
    }
   ],
   "source": [
    "# retrieving tafsir\n",
    "cursor.execute('SELECT * FROM dbo.tafsir1')\n",
    "c = 7               #set it to the index of aya to get the tafsir associated\n",
    "for row in cursor:\n",
    "    print(\" aya_index_quran: \", row[0], \"\\n sura_index: \", row[1], \"\\n aya_index_sura: \", row[2], \"\\n tafsir:\\n \", row[3])\n",
    "    break\n",
    "           \n"
   ]
  },
  {
   "cell_type": "code",
   "execution_count": 17,
   "metadata": {
    "collapsed": true
   },
   "outputs": [
    {
     "name": "stdout",
     "output_type": "stream",
     "text": [
      "{'aya_index_quran': 1, 'aya_index_sura': 1, 'sura_name': 'سورة الفاتحة', 'sura_index': 1, 'total_verses': 7, 'aya_chakl': 'بِسْمِ ٱللَّهِ ٱلرَّحْمَٰنِ ٱلرَّحِيمِ', 'aya_no_chakl': 'بسم الله الرحمن الرحيم', 'tafsir_aya': '( بسم الله الرحمن الرحيم ) بسم الله الباء أداة تخفض ما بعدها مثل من وعن والمتعلق به الباء محذوف لدلالة الكلام عليه تقديره أبدأ بسم الله أو قل بسم الله . وأسقطت الألف من الاسم طلبا للخفة وكثرة استعمالها وطولت الباء قال القتيبي ليكون افتتاح كلام كتاب الله بحرف معظم كان عمر بن عبد العزيز رحمه الله يقول لكتابه طولوا الباء وأظهروا السين وفرجوا بينهما ودوروا الميم . تعظيما لكتاب الله تعالى وقيل لما أسقطوا الألف ردوا طول الألف على الباء ليكون دالا على سقوط الألف ألا ترى أنه لما كتبت الألف في \" اقرأ باسم ربك \" ( 1 - العلق ) ردت الباء إلى صيغتها ولا تحذف الألف إذا أضيف الاسم إلى غير الله ولا مع غير الباء .والاسم هو المسمى وعينه وذاته قال الله تعالى : \" إنا نبشرك بغلام اسمه يحيى \" ( 7 - مريم ) أخبر أن اسمه يحيى ثم نادى الاسم فقال : يا يحيى \" وقال : ما تعبدون من دونه إلا أسماء سميتموها \" ( 40 - يوسف ) وأراد الأشخاص المعبودة لأنهم كانوا يعبدون المسميات وقال : سبح اسم ربك \" ( 1 - الأعلى ) ، وتبارك اسم ربك \" ثم يقال للتسمية أيضا اسم فاستعماله في التسمية أكثر من المسمى فإن قيل ما معنى التسمية من الله لنفسه؟ قيل هو تعليم للعباد كيف يفتتحون القراءة .واختلفوا في اشتقاقه قال المبرد من البصريين هو مشتق من السمو وهو العلو فكأنه علا على معناه وظهر عليه وصار معناه تحته وقال ثعلب من الكوفيين : هو من الوسم والسمة وهي العلامة وكأنه علامة لمعناه والأول أصح لأنه يصغر على السمي ولو كان من السمة لكان يصغر على الوسيم كما يقال في الوعد وعيد ويقال في تصريفه سميت ولو كان من الوسم لقيل وسمت . قوله تعالى \" الله \" قال الخليل وجماعة هو اسم علم خاص لله عز وجل لا اشتقاق له كأسماء الأعلام للعباد مثل زيد وعمرو . وقال جماعة هو مشتق ثم اختلفوا في اشتقاقه فقيل من أله إلاهة أي عبد عبادة وقرأ ابن عباس رضي الله عنهما \" ويذرك وآلهتك \" ( 127 - الأعراف ) أي عبادتك - معناه أنه مستحق للعبادة دون غيره وقيل أصله إله قال الله عز وجل \" وما كان معه من إله إذا لذهب كل إله بما خلق \" ( 91 - المؤمنون ) قال المبرد : هو من قول العرب ألهت إلى فلان أي سكنت إليه قال الشاعرألهت إليها والحوادث جمةفكأن الخلق يسكنون إليه ويطمئنون بذكره ويقال ألهت إليه أي فزعت إليه قال الشاعرألهت إليها والركائب وقفوقيل أصل الإله \" ولاه \" فأبدلت الواو بالهمزة مثل وشاح وإشاح اشتقاقه من الوله لأن العباد يولهون إليه أي يفزعون إليه في الشدائد ويلجئون إليه في الحوائج كما يوله كل طفل إلى أمه وقيل هو من الوله وهو ذهاب العقل لفقد من يعز عليك .قوله ( الرحمن الرحيم ) قال ابن عباس رضي الله عنهما هما اسمان رقيقان أحدهما أرق من الآخر . واختلفوا فيهما منهم من قال هما بمعنى واحد مثل ندمان ونديم ومعناهما ذو الرحمة وذكر أحدهما بعد الآخر تطميعا لقلوب الراغبين . وقال المبرد : هو إنعام بعد إنعام وتفضل بعد تفضل ومنهم من فرق بينهما فقال الرحمن بمعنى العموم والرحيم بمعنى الخصوص . فالرحمن بمعنى الرزاق في الدنيا وهو على العموم لكافة الخلق . والرحيم بمعنى المعافي في الآخرة والعفو في الآخرة للمؤمنين على الخصوص ولذلك قيل في الدعاء يا رحمن الدنيا ورحيم الآخرة فالرحمن من تصل رحمته إلى الخلق على العموم والرحيم من تصل رحمته إليهم على الخصوص ولذلك يدعى غير الله رحيما ولا يدعى غير الله رحمن . فالرحمن عام المعنى خاص اللفظ والرحيم عام اللفظ خاص المعنى والرحمة إرادة الله تعالى الخير لأهله . وقيل هي ترك عقوبة من يستحقها وإسداء الخير إلى من لا يستحق فهي على الأول صفة ذات وعلى الثاني صفة ( فعل ) .واختلفوا في آية التسمية فذهب قراء المدينة والبصرة وفقهاء الكوفة إلى أنها ليست من فاتحة الكتاب ولا من غيرها من السور والافتتاح بها للتيمن والتبرك . وذهب قراء مكة والكوفة وأكثر فقهاء الحجاز إلى أنها من الفاتحة وليست من سائر السور وأنها كتبت للفصل وذهب جماعة إلى أنها من الفاتحة ومن كل سورة إلا سورة التوبة وهو قول الثوري وابن المبارك والشافعي لأنها كتبت في المصحف بخط سائر القرآن .واتفقوا على أن الفاتحة سبع آيات فالآية الأولى عند من يعدها من الفاتحة ( بسم الله الرحمن الرحيم ) وابتداء الآية الأخيرة ( صراط الذين ) ومن لم يعدها من الفاتحة قال ابتداؤها \" الحمد لله رب العالمين \" وابتداء الآية الأخيرة \" غير المغضوب عليهم \" واحتج من جعلها من الفاتحة ومن السور بأنها كتبت في المصحف بخط القرآن وبما أخبرنا عبد الوهاب بن محمد الكسائي أنا أبو محمد عبد العزيز بن أحمد الخلال ثنا أبو العباس محمد بن يعقوب الأصم أنا الربيع بن سليمان أنا الشافعي أنا عبد المجيد عن ابن جريج قال أخبرني أبي عن سعيد بن جبير ( قال ) \" ولقد آتيناك سبعا من المثاني والقرآن العظيم \" ( 87 - الحجر ) هي أم القرآن قال أبي وقرأها علي سعيد بن جبير حتى ختمها ثم قال : بسم الله الرحمن الرحيم \" الآية السابعة قال سعيد : قرأتها على ابن عباس كما قرأتها عليك ثم قال بسم الله الرحمن الرحيم الآية السابعة ، قال ابن عباس : فذخرها لكم فما أخرجها لأحد قبلكم .'}\n"
     ]
    }
   ],
   "source": [
    "# you can improve your mapping to add a fields related to new taffsirs. assuming each aya has tafssir row\n",
    "quran = []\n",
    "\n",
    "cursor.execute('SELECT * FROM dbo.tafsir1')\n",
    "for row in cursor:\n",
    "    quran.append({\n",
    "        \"aya_index_quran\": row[0],\n",
    "        \"aya_index_sura\": row[2],\n",
    "        \"sura_name\": json_surat[row[1]-1]['name'],\n",
    "        \"sura_index\": row[1],\n",
    "        \"total_verses\": json_surat[row[1]-1]['total_verses'],\n",
    "        \"aya_chakl\": json_ayat[row[0]-1]['content'],\n",
    "        \"aya_no_chakl\": json_no_chakl[row[0]-1]['text'],\n",
    "        \"tafsir_aya\": row[3],\n",
    "    })\n",
    "print(quran[0])"
   ]
  },
  {
   "cell_type": "code",
   "execution_count": 18,
   "metadata": {
    "collapsed": true
   },
   "outputs": [
    {
     "data": {
      "text/plain": [
       "{'aya_index_quran': 1,\n",
       " 'aya_index_sura': 1,\n",
       " 'sura_name': 'سورة الفاتحة',\n",
       " 'sura_index': 1,\n",
       " 'total_verses': 7,\n",
       " 'aya_chakl': 'بِسْمِ ٱللَّهِ ٱلرَّحْمَٰنِ ٱلرَّحِيمِ',\n",
       " 'aya_no_chakl': 'بسم الله الرحمن الرحيم',\n",
       " 'tafsir_aya': '( بسم الله الرحمن الرحيم ) بسم الله الباء أداة تخفض ما بعدها مثل من وعن والمتعلق به الباء محذوف لدلالة الكلام عليه تقديره أبدأ بسم الله أو قل بسم الله . وأسقطت الألف من الاسم طلبا للخفة وكثرة استعمالها وطولت الباء قال القتيبي ليكون افتتاح كلام كتاب الله بحرف معظم كان عمر بن عبد العزيز رحمه الله يقول لكتابه طولوا الباء وأظهروا السين وفرجوا بينهما ودوروا الميم . تعظيما لكتاب الله تعالى وقيل لما أسقطوا الألف ردوا طول الألف على الباء ليكون دالا على سقوط الألف ألا ترى أنه لما كتبت الألف في \" اقرأ باسم ربك \" ( 1 - العلق ) ردت الباء إلى صيغتها ولا تحذف الألف إذا أضيف الاسم إلى غير الله ولا مع غير الباء .والاسم هو المسمى وعينه وذاته قال الله تعالى : \" إنا نبشرك بغلام اسمه يحيى \" ( 7 - مريم ) أخبر أن اسمه يحيى ثم نادى الاسم فقال : يا يحيى \" وقال : ما تعبدون من دونه إلا أسماء سميتموها \" ( 40 - يوسف ) وأراد الأشخاص المعبودة لأنهم كانوا يعبدون المسميات وقال : سبح اسم ربك \" ( 1 - الأعلى ) ، وتبارك اسم ربك \" ثم يقال للتسمية أيضا اسم فاستعماله في التسمية أكثر من المسمى فإن قيل ما معنى التسمية من الله لنفسه؟ قيل هو تعليم للعباد كيف يفتتحون القراءة .واختلفوا في اشتقاقه قال المبرد من البصريين هو مشتق من السمو وهو العلو فكأنه علا على معناه وظهر عليه وصار معناه تحته وقال ثعلب من الكوفيين : هو من الوسم والسمة وهي العلامة وكأنه علامة لمعناه والأول أصح لأنه يصغر على السمي ولو كان من السمة لكان يصغر على الوسيم كما يقال في الوعد وعيد ويقال في تصريفه سميت ولو كان من الوسم لقيل وسمت . قوله تعالى \" الله \" قال الخليل وجماعة هو اسم علم خاص لله عز وجل لا اشتقاق له كأسماء الأعلام للعباد مثل زيد وعمرو . وقال جماعة هو مشتق ثم اختلفوا في اشتقاقه فقيل من أله إلاهة أي عبد عبادة وقرأ ابن عباس رضي الله عنهما \" ويذرك وآلهتك \" ( 127 - الأعراف ) أي عبادتك - معناه أنه مستحق للعبادة دون غيره وقيل أصله إله قال الله عز وجل \" وما كان معه من إله إذا لذهب كل إله بما خلق \" ( 91 - المؤمنون ) قال المبرد : هو من قول العرب ألهت إلى فلان أي سكنت إليه قال الشاعرألهت إليها والحوادث جمةفكأن الخلق يسكنون إليه ويطمئنون بذكره ويقال ألهت إليه أي فزعت إليه قال الشاعرألهت إليها والركائب وقفوقيل أصل الإله \" ولاه \" فأبدلت الواو بالهمزة مثل وشاح وإشاح اشتقاقه من الوله لأن العباد يولهون إليه أي يفزعون إليه في الشدائد ويلجئون إليه في الحوائج كما يوله كل طفل إلى أمه وقيل هو من الوله وهو ذهاب العقل لفقد من يعز عليك .قوله ( الرحمن الرحيم ) قال ابن عباس رضي الله عنهما هما اسمان رقيقان أحدهما أرق من الآخر . واختلفوا فيهما منهم من قال هما بمعنى واحد مثل ندمان ونديم ومعناهما ذو الرحمة وذكر أحدهما بعد الآخر تطميعا لقلوب الراغبين . وقال المبرد : هو إنعام بعد إنعام وتفضل بعد تفضل ومنهم من فرق بينهما فقال الرحمن بمعنى العموم والرحيم بمعنى الخصوص . فالرحمن بمعنى الرزاق في الدنيا وهو على العموم لكافة الخلق . والرحيم بمعنى المعافي في الآخرة والعفو في الآخرة للمؤمنين على الخصوص ولذلك قيل في الدعاء يا رحمن الدنيا ورحيم الآخرة فالرحمن من تصل رحمته إلى الخلق على العموم والرحيم من تصل رحمته إليهم على الخصوص ولذلك يدعى غير الله رحيما ولا يدعى غير الله رحمن . فالرحمن عام المعنى خاص اللفظ والرحيم عام اللفظ خاص المعنى والرحمة إرادة الله تعالى الخير لأهله . وقيل هي ترك عقوبة من يستحقها وإسداء الخير إلى من لا يستحق فهي على الأول صفة ذات وعلى الثاني صفة ( فعل ) .واختلفوا في آية التسمية فذهب قراء المدينة والبصرة وفقهاء الكوفة إلى أنها ليست من فاتحة الكتاب ولا من غيرها من السور والافتتاح بها للتيمن والتبرك . وذهب قراء مكة والكوفة وأكثر فقهاء الحجاز إلى أنها من الفاتحة وليست من سائر السور وأنها كتبت للفصل وذهب جماعة إلى أنها من الفاتحة ومن كل سورة إلا سورة التوبة وهو قول الثوري وابن المبارك والشافعي لأنها كتبت في المصحف بخط سائر القرآن .واتفقوا على أن الفاتحة سبع آيات فالآية الأولى عند من يعدها من الفاتحة ( بسم الله الرحمن الرحيم ) وابتداء الآية الأخيرة ( صراط الذين ) ومن لم يعدها من الفاتحة قال ابتداؤها \" الحمد لله رب العالمين \" وابتداء الآية الأخيرة \" غير المغضوب عليهم \" واحتج من جعلها من الفاتحة ومن السور بأنها كتبت في المصحف بخط القرآن وبما أخبرنا عبد الوهاب بن محمد الكسائي أنا أبو محمد عبد العزيز بن أحمد الخلال ثنا أبو العباس محمد بن يعقوب الأصم أنا الربيع بن سليمان أنا الشافعي أنا عبد المجيد عن ابن جريج قال أخبرني أبي عن سعيد بن جبير ( قال ) \" ولقد آتيناك سبعا من المثاني والقرآن العظيم \" ( 87 - الحجر ) هي أم القرآن قال أبي وقرأها علي سعيد بن جبير حتى ختمها ثم قال : بسم الله الرحمن الرحيم \" الآية السابعة قال سعيد : قرأتها على ابن عباس كما قرأتها عليك ثم قال بسم الله الرحمن الرحيم الآية السابعة ، قال ابن عباس : فذخرها لكم فما أخرجها لأحد قبلكم .'}"
      ]
     },
     "execution_count": 18,
     "metadata": {},
     "output_type": "execute_result"
    }
   ],
   "source": [
    "quran[0]"
   ]
  },
  {
   "cell_type": "code",
   "execution_count": 19,
   "metadata": {},
   "outputs": [],
   "source": [
    "# saving the resulting list of documents into json file so it can be easily portable\n",
    "with open('data/quran.json', 'w') as f:\n",
    "    json.dump(quran, f, indent=4)"
   ]
  },
  {
   "cell_type": "code",
   "execution_count": 70,
   "metadata": {},
   "outputs": [],
   "source": [
    "quran = codecs.open('quran.json', 'r', 'utf-8-sig')\n",
    "json_quran = json.load(quran)"
   ]
  },
  {
   "cell_type": "markdown",
   "metadata": {},
   "source": [
    "# Pre-processing & normalizing the retrieved Hadith data : "
   ]
  },
  {
   "cell_type": "code",
   "execution_count": 26,
   "metadata": {},
   "outputs": [
    {
     "name": "stdout",
     "output_type": "stream",
     "text": [
      "<class 'pandas.core.frame.DataFrame'>\n",
      "RangeIndex: 34441 entries, 0 to 34440\n",
      "Data columns (total 9 columns):\n",
      " #   Column      Non-Null Count  Dtype \n",
      "---  ------      --------------  ----- \n",
      " 0   id          34441 non-null  int64 \n",
      " 1   hadith_id   34441 non-null  int64 \n",
      " 2   source      34441 non-null  object\n",
      " 3   chapter_no  34441 non-null  int64 \n",
      " 4   hadith_no   34441 non-null  object\n",
      " 5   chapter     34441 non-null  object\n",
      " 6   chain_indx  34318 non-null  object\n",
      " 7   text_ar     34433 non-null  object\n",
      " 8   text_en     33588 non-null  object\n",
      "dtypes: int64(3), object(6)\n",
      "memory usage: 2.4+ MB\n"
     ]
    }
   ],
   "source": [
    "#Reading the raw unprocessed Hadith data \n",
    "\n",
    "data = pd.read_csv('data\\hadiths.csv', encoding='utf-8-sig')\n",
    "data.info()"
   ]
  },
  {
   "cell_type": "code",
   "execution_count": 27,
   "metadata": {},
   "outputs": [
    {
     "data": {
      "text/plain": [
       "(34441, 9)"
      ]
     },
     "execution_count": 27,
     "metadata": {},
     "output_type": "execute_result"
    }
   ],
   "source": [
    "data.shape"
   ]
  },
  {
   "cell_type": "code",
   "execution_count": 28,
   "metadata": {},
   "outputs": [
    {
     "data": {
      "text/html": [
       "<div>\n",
       "<style scoped>\n",
       "    .dataframe tbody tr th:only-of-type {\n",
       "        vertical-align: middle;\n",
       "    }\n",
       "\n",
       "    .dataframe tbody tr th {\n",
       "        vertical-align: top;\n",
       "    }\n",
       "\n",
       "    .dataframe thead th {\n",
       "        text-align: right;\n",
       "    }\n",
       "</style>\n",
       "<table border=\"1\" class=\"dataframe\">\n",
       "  <thead>\n",
       "    <tr style=\"text-align: right;\">\n",
       "      <th></th>\n",
       "      <th>id</th>\n",
       "      <th>hadith_id</th>\n",
       "      <th>source</th>\n",
       "      <th>chapter_no</th>\n",
       "      <th>hadith_no</th>\n",
       "      <th>chapter</th>\n",
       "      <th>chain_indx</th>\n",
       "      <th>text_ar</th>\n",
       "      <th>text_en</th>\n",
       "    </tr>\n",
       "  </thead>\n",
       "  <tbody>\n",
       "    <tr>\n",
       "      <th>0</th>\n",
       "      <td>0</td>\n",
       "      <td>1</td>\n",
       "      <td>Sahih Bukhari</td>\n",
       "      <td>1</td>\n",
       "      <td>1</td>\n",
       "      <td>Revelation - كتاب بدء الوحى</td>\n",
       "      <td>30418, 20005, 11062, 11213, 11042, 3</td>\n",
       "      <td>حدثنا الحميدي عبد الله بن الزبير، قال حدثنا سف...</td>\n",
       "      <td>Narrated 'Umar bin Al-Khattab:          ...</td>\n",
       "    </tr>\n",
       "    <tr>\n",
       "      <th>1</th>\n",
       "      <td>1</td>\n",
       "      <td>2</td>\n",
       "      <td>Sahih Bukhari</td>\n",
       "      <td>1</td>\n",
       "      <td>2</td>\n",
       "      <td>Revelation - كتاب بدء الوحى</td>\n",
       "      <td>30355, 20001, 11065, 10511, 53</td>\n",
       "      <td>حدثنا عبد الله بن يوسف، قال أخبرنا مالك، عن هش...</td>\n",
       "      <td>Narrated 'Aisha:                        ...</td>\n",
       "    </tr>\n",
       "    <tr>\n",
       "      <th>2</th>\n",
       "      <td>2</td>\n",
       "      <td>3</td>\n",
       "      <td>Sahih Bukhari</td>\n",
       "      <td>1</td>\n",
       "      <td>3</td>\n",
       "      <td>Revelation - كتاب بدء الوحى</td>\n",
       "      <td>30399, 20023, 11207, 11013, 10511, 53</td>\n",
       "      <td>حدثنا يحيى بن بكير، قال حدثنا الليث، عن عقيل، ...</td>\n",
       "      <td>Narrated 'Aisha:                       (the m...</td>\n",
       "    </tr>\n",
       "    <tr>\n",
       "      <th>3</th>\n",
       "      <td>3</td>\n",
       "      <td>4</td>\n",
       "      <td>Sahih Bukhari</td>\n",
       "      <td>1</td>\n",
       "      <td>4</td>\n",
       "      <td>Revelation - كتاب بدء الوحى</td>\n",
       "      <td>11013, 10567, 34</td>\n",
       "      <td>قال ابن شهاب وأخبرني أبو سلمة بن عبد الرحمن، أ...</td>\n",
       "      <td>Narrated Jabir bin 'Abdullah Al-Ansari while ...</td>\n",
       "    </tr>\n",
       "    <tr>\n",
       "      <th>4</th>\n",
       "      <td>4</td>\n",
       "      <td>5</td>\n",
       "      <td>Sahih Bukhari</td>\n",
       "      <td>1</td>\n",
       "      <td>5</td>\n",
       "      <td>Revelation - كتاب بدء الوحى</td>\n",
       "      <td>20040, 20469, 11399, 11050, 17</td>\n",
       "      <td>حدثنا موسى بن إسماعيل، قال حدثنا أبو عوانة، قا...</td>\n",
       "      <td>Narrated Said bin Jubair:               ...</td>\n",
       "    </tr>\n",
       "    <tr>\n",
       "      <th>5</th>\n",
       "      <td>5</td>\n",
       "      <td>6</td>\n",
       "      <td>Sahih Bukhari</td>\n",
       "      <td>1</td>\n",
       "      <td>6</td>\n",
       "      <td>Revelation - كتاب بدء الوحى</td>\n",
       "      <td>30349, 20025, 20475, 11013, 30318, 20025, 2047...</td>\n",
       "      <td>حدثنا عبدان، قال أخبرنا عبد الله، قال أخبرنا ي...</td>\n",
       "      <td>Narrated Ibn 'Abbas:                    ...</td>\n",
       "    </tr>\n",
       "    <tr>\n",
       "      <th>6</th>\n",
       "      <td>6</td>\n",
       "      <td>7</td>\n",
       "      <td>Sahih Bukhari</td>\n",
       "      <td>1</td>\n",
       "      <td>7</td>\n",
       "      <td>Revelation - كتاب بدء الوحى</td>\n",
       "      <td>30330, 20428, 11013, 11004, 17</td>\n",
       "      <td>حدثنا أبو اليمان الحكم بن نافع، قال أخبرنا شعي...</td>\n",
       "      <td>Narrated 'Abdullah bin 'Abbas:          ...</td>\n",
       "    </tr>\n",
       "    <tr>\n",
       "      <th>7</th>\n",
       "      <td>0</td>\n",
       "      <td>8</td>\n",
       "      <td>Sahih Bukhari</td>\n",
       "      <td>2</td>\n",
       "      <td>8</td>\n",
       "      <td>Belief - كتاب الإيمان</td>\n",
       "      <td>20340, 11243, 11709, 18</td>\n",
       "      <td>حدثنا عبيد الله بن موسى، قال أخبرنا حنظلة بن أ...</td>\n",
       "      <td>Narrated Ibn 'Umar:                     ...</td>\n",
       "    </tr>\n",
       "    <tr>\n",
       "      <th>8</th>\n",
       "      <td>1</td>\n",
       "      <td>9</td>\n",
       "      <td>Sahih Bukhari</td>\n",
       "      <td>2</td>\n",
       "      <td>9</td>\n",
       "      <td>Belief - كتاب الإيمان</td>\n",
       "      <td>30351, 20443, 20160, 11183, 11161, 13</td>\n",
       "      <td>حدثنا عبد الله بن محمد، قال حدثنا أبو عامر الع...</td>\n",
       "      <td>Narrated Abu Huraira:                   ...</td>\n",
       "    </tr>\n",
       "    <tr>\n",
       "      <th>9</th>\n",
       "      <td>2</td>\n",
       "      <td>10</td>\n",
       "      <td>Sahih Bukhari</td>\n",
       "      <td>2</td>\n",
       "      <td>10</td>\n",
       "      <td>Belief - كتاب الإيمان</td>\n",
       "      <td>20404, 20020, 11636, 20208, 11052, 29</td>\n",
       "      <td>حدثنا آدم بن أبي إياس، قال حدثنا شعبة، عن عبد ...</td>\n",
       "      <td>Narrated 'Abdullah bin 'Amr:            ...</td>\n",
       "    </tr>\n",
       "  </tbody>\n",
       "</table>\n",
       "</div>"
      ],
      "text/plain": [
       "   id  hadith_id           source  chapter_no hadith_no  \\\n",
       "0   0          1   Sahih Bukhari            1        1    \n",
       "1   1          2   Sahih Bukhari            1        2    \n",
       "2   2          3   Sahih Bukhari            1        3    \n",
       "3   3          4   Sahih Bukhari            1        4    \n",
       "4   4          5   Sahih Bukhari            1        5    \n",
       "5   5          6   Sahih Bukhari            1        6    \n",
       "6   6          7   Sahih Bukhari            1        7    \n",
       "7   0          8   Sahih Bukhari            2        8    \n",
       "8   1          9   Sahih Bukhari            2        9    \n",
       "9   2         10   Sahih Bukhari            2       10    \n",
       "\n",
       "                       chapter  \\\n",
       "0  Revelation - كتاب بدء الوحى   \n",
       "1  Revelation - كتاب بدء الوحى   \n",
       "2  Revelation - كتاب بدء الوحى   \n",
       "3  Revelation - كتاب بدء الوحى   \n",
       "4  Revelation - كتاب بدء الوحى   \n",
       "5  Revelation - كتاب بدء الوحى   \n",
       "6  Revelation - كتاب بدء الوحى   \n",
       "7        Belief - كتاب الإيمان   \n",
       "8        Belief - كتاب الإيمان   \n",
       "9        Belief - كتاب الإيمان   \n",
       "\n",
       "                                          chain_indx  \\\n",
       "0               30418, 20005, 11062, 11213, 11042, 3   \n",
       "1                     30355, 20001, 11065, 10511, 53   \n",
       "2              30399, 20023, 11207, 11013, 10511, 53   \n",
       "3                                   11013, 10567, 34   \n",
       "4                     20040, 20469, 11399, 11050, 17   \n",
       "5  30349, 20025, 20475, 11013, 30318, 20025, 2047...   \n",
       "6                     30330, 20428, 11013, 11004, 17   \n",
       "7                            20340, 11243, 11709, 18   \n",
       "8              30351, 20443, 20160, 11183, 11161, 13   \n",
       "9              20404, 20020, 11636, 20208, 11052, 29   \n",
       "\n",
       "                                             text_ar  \\\n",
       "0  حدثنا الحميدي عبد الله بن الزبير، قال حدثنا سف...   \n",
       "1  حدثنا عبد الله بن يوسف، قال أخبرنا مالك، عن هش...   \n",
       "2  حدثنا يحيى بن بكير، قال حدثنا الليث، عن عقيل، ...   \n",
       "3  قال ابن شهاب وأخبرني أبو سلمة بن عبد الرحمن، أ...   \n",
       "4  حدثنا موسى بن إسماعيل، قال حدثنا أبو عوانة، قا...   \n",
       "5  حدثنا عبدان، قال أخبرنا عبد الله، قال أخبرنا ي...   \n",
       "6  حدثنا أبو اليمان الحكم بن نافع، قال أخبرنا شعي...   \n",
       "7  حدثنا عبيد الله بن موسى، قال أخبرنا حنظلة بن أ...   \n",
       "8  حدثنا عبد الله بن محمد، قال حدثنا أبو عامر الع...   \n",
       "9  حدثنا آدم بن أبي إياس، قال حدثنا شعبة، عن عبد ...   \n",
       "\n",
       "                                             text_en  \n",
       "0        Narrated 'Umar bin Al-Khattab:          ...  \n",
       "1        Narrated 'Aisha:                        ...  \n",
       "2   Narrated 'Aisha:                       (the m...  \n",
       "3   Narrated Jabir bin 'Abdullah Al-Ansari while ...  \n",
       "4        Narrated Said bin Jubair:               ...  \n",
       "5        Narrated Ibn 'Abbas:                    ...  \n",
       "6        Narrated 'Abdullah bin 'Abbas:          ...  \n",
       "7        Narrated Ibn 'Umar:                     ...  \n",
       "8        Narrated Abu Huraira:                   ...  \n",
       "9        Narrated 'Abdullah bin 'Amr:            ...  "
      ]
     },
     "execution_count": 28,
     "metadata": {},
     "output_type": "execute_result"
    }
   ],
   "source": [
    "data[:10]"
   ]
  },
  {
   "cell_type": "code",
   "execution_count": 29,
   "metadata": {},
   "outputs": [
    {
     "data": {
      "text/plain": [
       "'حدثنا أبو اليمان، قال أخبرنا شعيب، عن الزهري، قال أخبرني عامر بن سعد بن أبي وقاص، عن سعد، رضى الله عنه أن رسول الله صلى الله عليه وسلم أعطى رهطا وسعد جالس، فترك رسول الله صلى الله عليه وسلم رجلا هو أعجبهم إلى فقلت يا رسول الله ما لك عن فلان فوالله إني لأراه مؤمنا\\u200f.\\u200f فقال \\u200f\"\\u200f أو مسلما \\u200f\"\\u200f\\u200f.\\u200f فسكت قليلا، ثم غلبني ما أعلم منه فعدت لمقالتي فقلت ما لك عن فلان فوالله إني لأراه مؤمنا فقال \\u200f\"\\u200f أو مسلما \\u200f\"\\u200f\\u200f.\\u200f ثم غلبني ما أعلم منه فعدت لمقالتي وعاد رسول الله صلى الله عليه وسلم ثم قال \\u200f\"\\u200f يا سعد، إني لأعطي الرجل وغيره أحب إلى منه، خشية أن يكبه الله في النار \\u200f\"\\u200f\\u200f.\\u200f ورواه يونس وصالح ومعمر وابن أخي الزهري عن الزهري\\u200f.\\u200f'"
      ]
     },
     "execution_count": 29,
     "metadata": {},
     "output_type": "execute_result"
    }
   ],
   "source": [
    "data['text_ar'][26]"
   ]
  },
  {
   "cell_type": "code",
   "execution_count": 30,
   "metadata": {},
   "outputs": [],
   "source": [
    "data.drop('id',inplace=True,axis=1)\n",
    "data.drop('hadith_id',inplace=True,axis=1)\n",
    "data.drop('chain_indx',inplace=True,axis=1)\n"
   ]
  },
  {
   "cell_type": "code",
   "execution_count": 31,
   "metadata": {},
   "outputs": [
    {
     "name": "stdout",
     "output_type": "stream",
     "text": [
      "<class 'pandas.core.frame.DataFrame'>\n",
      "RangeIndex: 34441 entries, 0 to 34440\n",
      "Data columns (total 6 columns):\n",
      " #   Column      Non-Null Count  Dtype \n",
      "---  ------      --------------  ----- \n",
      " 0   source      34441 non-null  object\n",
      " 1   chapter_no  34441 non-null  int64 \n",
      " 2   hadith_no   34441 non-null  object\n",
      " 3   chapter     34441 non-null  object\n",
      " 4   text_ar     34433 non-null  object\n",
      " 5   text_en     33588 non-null  object\n",
      "dtypes: int64(1), object(5)\n",
      "memory usage: 1.6+ MB\n"
     ]
    },
    {
     "data": {
      "text/plain": [
       "array([' Sahih Bukhari ', ' Sahih Muslim ', \" Sunan Abi Da'ud \",\n",
       "       \" Jami' al-Tirmidhi \", \" Sunan an-Nasa'i \", ' Sunan Ibn Majah '],\n",
       "      dtype=object)"
      ]
     },
     "execution_count": 31,
     "metadata": {},
     "output_type": "execute_result"
    }
   ],
   "source": [
    "data.info()\n",
    "pd.unique(data['source'])"
   ]
  },
  {
   "cell_type": "code",
   "execution_count": 32,
   "metadata": {},
   "outputs": [],
   "source": [
    "\n",
    "data['source_english'] = data['source'].copy()\n",
    "data['source'].replace(to_replace =' Sahih Bukhari ',\n",
    "                 value =\"صحيح البخاري\", regex=True, inplace=True)\n",
    "data['source'].replace(to_replace =' Sahih Muslim ',\n",
    "                 value =\"صحيح مسلم\", regex=True, inplace=True)\n",
    "data['source'].replace(to_replace =\" Sunan Abi Da'ud \",\n",
    "                 value =\"سنن أبي داود\", regex=True, inplace=True)\n",
    "data['source'].replace(to_replace =\" Jami' al-Tirmidhi \",\n",
    "                 value =\"سنن الترمذي\", regex=True, inplace=True)\n",
    "data['source'].replace(to_replace =\" Sunan an-Nasa'i \",\n",
    "                 value =\"سنن النسائي\", regex=True, inplace=True)\n",
    "data['source'].replace(to_replace =' Sunan Ibn Majah ',\n",
    "                 value =\"سنن ابن ماجه\", regex=True, inplace=True)\n"
   ]
  },
  {
   "cell_type": "code",
   "execution_count": 33,
   "metadata": {},
   "outputs": [
    {
     "data": {
      "text/plain": [
       "array([' Sahih Bukhari ', ' Sahih Muslim ', \" Sunan Abi Da'ud \",\n",
       "       \" Jami' al-Tirmidhi \", \" Sunan an-Nasa'i \", ' Sunan Ibn Majah '],\n",
       "      dtype=object)"
      ]
     },
     "execution_count": 33,
     "metadata": {},
     "output_type": "execute_result"
    }
   ],
   "source": [
    "pd.unique(data['source_english'])\n"
   ]
  },
  {
   "cell_type": "code",
   "execution_count": 34,
   "metadata": {},
   "outputs": [
    {
     "data": {
      "text/plain": [
       "array(['صحيح البخاري', 'صحيح مسلم', 'سنن أبي داود', 'سنن الترمذي',\n",
       "       'سنن النسائي', 'سنن ابن ماجه'], dtype=object)"
      ]
     },
     "execution_count": 34,
     "metadata": {},
     "output_type": "execute_result"
    }
   ],
   "source": [
    "pd.unique(data['source'])\n"
   ]
  },
  {
   "cell_type": "code",
   "execution_count": 35,
   "metadata": {},
   "outputs": [],
   "source": [
    "data.drop('hadith_no',inplace=True,axis=1)"
   ]
  },
  {
   "cell_type": "code",
   "execution_count": 49,
   "metadata": {},
   "outputs": [],
   "source": [
    "#getting rid of html source characters: \\u200f.\\u200f \\u200f{\\u200f \\u200f\"\\u200f\\u200f.\\u200f \n",
    "\n",
    "data['text_ar'].replace(to_replace ='\\u200f\"\\u200f ',\n",
    "                 value =\"\", regex=True, inplace=True)\n",
    "data['text_ar'].replace(to_replace ='\\u200f.\\u200f',\n",
    "                 value =\"\", regex=True, inplace=True)\n",
    "data['text_ar'].replace(to_replace ='\\u200f{\\u200f',\n",
    "                 value =\"\", regex=True, inplace=True)\n",
    "data['text_ar'].replace(to_replace ='\\u200f\"\\u200f\\u200f.\\u200f ',\n",
    "                 value =\"\", regex=True, inplace=True)\n",
    "data['text_en'].replace(to_replace ='\\'',\n",
    "                 value =\"\", regex=True, inplace=True)"
   ]
  },
  {
   "cell_type": "code",
   "execution_count": 38,
   "metadata": {},
   "outputs": [
    {
     "data": {
      "text/plain": [
       "'حدثنا محمد بن المثنى، حدثنا يحيى، عن هشام، قال أخبرني أبي، عن زينب بنت أم سلمة، عن أم سلمة، أن أم سليم، قالت يا رسول الله إن الله لا يستحي من الحق، هل على المرأة غسل إذا احتلمت قال نعم إذا رأت الماء  فضحكت أم سلمة فقالت أتحتلم المرأة فقال النبي صلى الله عليه وسلم فبم شبه الولد '"
      ]
     },
     "execution_count": 38,
     "metadata": {},
     "output_type": "execute_result"
    }
   ],
   "source": [
    "data['text_ar'][5908]"
   ]
  },
  {
   "cell_type": "code",
   "execution_count": 39,
   "metadata": {},
   "outputs": [
    {
     "data": {
      "text/plain": [
       "' Narrated Zainab bint Um Salama:                     Um Sulaim said, \"O Allahs Apostle! Verily Allah is not shy of (telling you) the truth. Is it essential for a woman to take a bath after she had a wet dream (nocturnal sexual discharge)?\" He said, \"Yes, if she notices discharge. On that Um Salama laughed and said, \"Does a woman get a (nocturnal sexual) discharge?\" He said, \"How then does (her) son resemble her (his mother)?\"'"
      ]
     },
     "execution_count": 39,
     "metadata": {},
     "output_type": "execute_result"
    }
   ],
   "source": [
    "data['text_en'][5908]"
   ]
  },
  {
   "cell_type": "code",
   "execution_count": 40,
   "metadata": {},
   "outputs": [
    {
     "data": {
      "text/plain": [
       "['source', 'chapter_no', 'chapter', 'text_ar', 'text_en', 'source_english']"
      ]
     },
     "execution_count": 40,
     "metadata": {},
     "output_type": "execute_result"
    }
   ],
   "source": [
    "cols = data.columns.tolist()\n",
    "cols"
   ]
  },
  {
   "cell_type": "code",
   "execution_count": 41,
   "metadata": {},
   "outputs": [],
   "source": [
    "data = data[['source', 'source_english', 'chapter_no', 'chapter', 'text_ar', 'text_en']]"
   ]
  },
  {
   "cell_type": "code",
   "execution_count": 42,
   "metadata": {},
   "outputs": [
    {
     "data": {
      "text/html": [
       "<div>\n",
       "<style scoped>\n",
       "    .dataframe tbody tr th:only-of-type {\n",
       "        vertical-align: middle;\n",
       "    }\n",
       "\n",
       "    .dataframe tbody tr th {\n",
       "        vertical-align: top;\n",
       "    }\n",
       "\n",
       "    .dataframe thead th {\n",
       "        text-align: right;\n",
       "    }\n",
       "</style>\n",
       "<table border=\"1\" class=\"dataframe\">\n",
       "  <thead>\n",
       "    <tr style=\"text-align: right;\">\n",
       "      <th></th>\n",
       "      <th>source</th>\n",
       "      <th>source_english</th>\n",
       "      <th>chapter_no</th>\n",
       "      <th>chapter</th>\n",
       "      <th>text_ar</th>\n",
       "      <th>text_en</th>\n",
       "    </tr>\n",
       "  </thead>\n",
       "  <tbody>\n",
       "    <tr>\n",
       "      <th>0</th>\n",
       "      <td>صحيح البخاري</td>\n",
       "      <td>Sahih Bukhari</td>\n",
       "      <td>1</td>\n",
       "      <td>Revelation - كتاب بدء الوحى</td>\n",
       "      <td>حدثنا الحميدي عبد الله بن الزبير، قال حدثنا سف...</td>\n",
       "      <td>Narrated Umar bin Al-Khattab:           ...</td>\n",
       "    </tr>\n",
       "    <tr>\n",
       "      <th>1</th>\n",
       "      <td>صحيح البخاري</td>\n",
       "      <td>Sahih Bukhari</td>\n",
       "      <td>1</td>\n",
       "      <td>Revelation - كتاب بدء الوحى</td>\n",
       "      <td>حدثنا عبد الله بن يوسف، قال أخبرنا مالك، عن هش...</td>\n",
       "      <td>Narrated Aisha:                         ...</td>\n",
       "    </tr>\n",
       "    <tr>\n",
       "      <th>2</th>\n",
       "      <td>صحيح البخاري</td>\n",
       "      <td>Sahih Bukhari</td>\n",
       "      <td>1</td>\n",
       "      <td>Revelation - كتاب بدء الوحى</td>\n",
       "      <td>حدثنا يحيى بن بكير، قال حدثنا الليث، عن عقيل، ...</td>\n",
       "      <td>Narrated Aisha:                       (the mo...</td>\n",
       "    </tr>\n",
       "    <tr>\n",
       "      <th>3</th>\n",
       "      <td>صحيح البخاري</td>\n",
       "      <td>Sahih Bukhari</td>\n",
       "      <td>1</td>\n",
       "      <td>Revelation - كتاب بدء الوحى</td>\n",
       "      <td>قال ابن شهاب وأخبرني أبو سلمة بن عبد الرحمن، أ...</td>\n",
       "      <td>Narrated Jabir bin Abdullah Al-Ansari while t...</td>\n",
       "    </tr>\n",
       "    <tr>\n",
       "      <th>4</th>\n",
       "      <td>صحيح البخاري</td>\n",
       "      <td>Sahih Bukhari</td>\n",
       "      <td>1</td>\n",
       "      <td>Revelation - كتاب بدء الوحى</td>\n",
       "      <td>حدثنا موسى بن إسماعيل، قال حدثنا أبو عوانة، قا...</td>\n",
       "      <td>Narrated Said bin Jubair:               ...</td>\n",
       "    </tr>\n",
       "    <tr>\n",
       "      <th>5</th>\n",
       "      <td>صحيح البخاري</td>\n",
       "      <td>Sahih Bukhari</td>\n",
       "      <td>1</td>\n",
       "      <td>Revelation - كتاب بدء الوحى</td>\n",
       "      <td>حدثنا عبدان، قال أخبرنا عبد الله، قال أخبرنا ي...</td>\n",
       "      <td>Narrated Ibn Abbas:                     ...</td>\n",
       "    </tr>\n",
       "    <tr>\n",
       "      <th>6</th>\n",
       "      <td>صحيح البخاري</td>\n",
       "      <td>Sahih Bukhari</td>\n",
       "      <td>1</td>\n",
       "      <td>Revelation - كتاب بدء الوحى</td>\n",
       "      <td>حدثنا أبو اليمان الحكم بن نافع، قال أخبرنا شعي...</td>\n",
       "      <td>Narrated Abdullah bin Abbas:            ...</td>\n",
       "    </tr>\n",
       "    <tr>\n",
       "      <th>7</th>\n",
       "      <td>صحيح البخاري</td>\n",
       "      <td>Sahih Bukhari</td>\n",
       "      <td>2</td>\n",
       "      <td>Belief - كتاب الإيمان</td>\n",
       "      <td>حدثنا عبيد الله بن موسى، قال أخبرنا حنظلة بن أ...</td>\n",
       "      <td>Narrated Ibn Umar:                      ...</td>\n",
       "    </tr>\n",
       "    <tr>\n",
       "      <th>8</th>\n",
       "      <td>صحيح البخاري</td>\n",
       "      <td>Sahih Bukhari</td>\n",
       "      <td>2</td>\n",
       "      <td>Belief - كتاب الإيمان</td>\n",
       "      <td>حدثنا عبد الله بن محمد، قال حدثنا أبو عامر الع...</td>\n",
       "      <td>Narrated Abu Huraira:                   ...</td>\n",
       "    </tr>\n",
       "    <tr>\n",
       "      <th>9</th>\n",
       "      <td>صحيح البخاري</td>\n",
       "      <td>Sahih Bukhari</td>\n",
       "      <td>2</td>\n",
       "      <td>Belief - كتاب الإيمان</td>\n",
       "      <td>حدثنا آدم بن أبي إياس، قال حدثنا شعبة، عن عبد ...</td>\n",
       "      <td>Narrated Abdullah bin Amr:              ...</td>\n",
       "    </tr>\n",
       "  </tbody>\n",
       "</table>\n",
       "</div>"
      ],
      "text/plain": [
       "         source   source_english  chapter_no                      chapter  \\\n",
       "0  صحيح البخاري   Sahih Bukhari            1  Revelation - كتاب بدء الوحى   \n",
       "1  صحيح البخاري   Sahih Bukhari            1  Revelation - كتاب بدء الوحى   \n",
       "2  صحيح البخاري   Sahih Bukhari            1  Revelation - كتاب بدء الوحى   \n",
       "3  صحيح البخاري   Sahih Bukhari            1  Revelation - كتاب بدء الوحى   \n",
       "4  صحيح البخاري   Sahih Bukhari            1  Revelation - كتاب بدء الوحى   \n",
       "5  صحيح البخاري   Sahih Bukhari            1  Revelation - كتاب بدء الوحى   \n",
       "6  صحيح البخاري   Sahih Bukhari            1  Revelation - كتاب بدء الوحى   \n",
       "7  صحيح البخاري   Sahih Bukhari            2        Belief - كتاب الإيمان   \n",
       "8  صحيح البخاري   Sahih Bukhari            2        Belief - كتاب الإيمان   \n",
       "9  صحيح البخاري   Sahih Bukhari            2        Belief - كتاب الإيمان   \n",
       "\n",
       "                                             text_ar  \\\n",
       "0  حدثنا الحميدي عبد الله بن الزبير، قال حدثنا سف...   \n",
       "1  حدثنا عبد الله بن يوسف، قال أخبرنا مالك، عن هش...   \n",
       "2  حدثنا يحيى بن بكير، قال حدثنا الليث، عن عقيل، ...   \n",
       "3  قال ابن شهاب وأخبرني أبو سلمة بن عبد الرحمن، أ...   \n",
       "4  حدثنا موسى بن إسماعيل، قال حدثنا أبو عوانة، قا...   \n",
       "5  حدثنا عبدان، قال أخبرنا عبد الله، قال أخبرنا ي...   \n",
       "6  حدثنا أبو اليمان الحكم بن نافع، قال أخبرنا شعي...   \n",
       "7  حدثنا عبيد الله بن موسى، قال أخبرنا حنظلة بن أ...   \n",
       "8  حدثنا عبد الله بن محمد، قال حدثنا أبو عامر الع...   \n",
       "9  حدثنا آدم بن أبي إياس، قال حدثنا شعبة، عن عبد ...   \n",
       "\n",
       "                                             text_en  \n",
       "0        Narrated Umar bin Al-Khattab:           ...  \n",
       "1        Narrated Aisha:                         ...  \n",
       "2   Narrated Aisha:                       (the mo...  \n",
       "3   Narrated Jabir bin Abdullah Al-Ansari while t...  \n",
       "4        Narrated Said bin Jubair:               ...  \n",
       "5        Narrated Ibn Abbas:                     ...  \n",
       "6        Narrated Abdullah bin Abbas:            ...  \n",
       "7        Narrated Ibn Umar:                      ...  \n",
       "8        Narrated Abu Huraira:                   ...  \n",
       "9        Narrated Abdullah bin Amr:              ...  "
      ]
     },
     "execution_count": 42,
     "metadata": {},
     "output_type": "execute_result"
    }
   ],
   "source": [
    "data[:10]"
   ]
  },
  {
   "cell_type": "code",
   "execution_count": 43,
   "metadata": {},
   "outputs": [],
   "source": [
    "data.to_csv('data/hadith_processed.csv')"
   ]
  },
  {
   "cell_type": "code",
   "execution_count": 44,
   "metadata": {},
   "outputs": [],
   "source": [
    " \n",
    "def csv_to_json(csvFilePath, jsonFilePath):\n",
    "    jsonArray = []\n",
    "      \n",
    "    #read csv file\n",
    "    with open(csvFilePath, encoding='utf-8') as csvf: \n",
    "        #load csv file data using csv library's dictreader\n",
    "        csvReader = csv.DictReader(csvf) \n",
    "\n",
    "        #convert each csv row into python dict\n",
    "        for row in csvReader: \n",
    "            #add this python dict to json array\n",
    "            jsonArray.append(row)\n",
    "  \n",
    "    #convert python jsonArray to JSON String and write to file\n",
    "    with open(jsonFilePath, 'w', encoding='utf-8') as jsonf: \n",
    "        jsonString = json.dumps(jsonArray, indent=4)\n",
    "        jsonf.write(jsonString)\n",
    "          \n",
    "csvFilePath = r'data/hadith_processed.csv'\n",
    "jsonFilePath = r'data/json_hadith.json'\n",
    "csv_to_json(csvFilePath, jsonFilePath)"
   ]
  }
 ],
 "metadata": {
  "kernelspec": {
   "display_name": "Python 3",
   "language": "python",
   "name": "python3"
  },
  "language_info": {
   "codemirror_mode": {
    "name": "ipython",
    "version": 3
   },
   "file_extension": ".py",
   "mimetype": "text/x-python",
   "name": "python",
   "nbconvert_exporter": "python",
   "pygments_lexer": "ipython3",
   "version": "3.8.3"
  }
 },
 "nbformat": 4,
 "nbformat_minor": 4
}
