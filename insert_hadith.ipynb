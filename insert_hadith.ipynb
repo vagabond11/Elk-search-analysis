{
 "cells": [
  {
   "cell_type": "code",
   "execution_count": 94,
   "metadata": {},
   "outputs": [
    {
     "name": "stdout",
     "output_type": "stream",
     "text": [
      "<class 'pandas.core.frame.DataFrame'>\n",
      "RangeIndex: 34441 entries, 0 to 34440\n",
      "Data columns (total 9 columns):\n",
      " #   Column      Non-Null Count  Dtype \n",
      "---  ------      --------------  ----- \n",
      " 0   id          34441 non-null  int64 \n",
      " 1   hadith_id   34441 non-null  int64 \n",
      " 2   source      34441 non-null  object\n",
      " 3   chapter_no  34441 non-null  int64 \n",
      " 4   hadith_no   34441 non-null  object\n",
      " 5   chapter     34441 non-null  object\n",
      " 6   chain_indx  34318 non-null  object\n",
      " 7   text_ar     34433 non-null  object\n",
      " 8   text_en     33588 non-null  object\n",
      "dtypes: int64(3), object(6)\n",
      "memory usage: 2.4+ MB\n"
     ]
    }
   ],
   "source": [
    "from elasticsearch import helpers, Elasticsearch\n",
    "import csv\n",
    "import pandas as pd \n",
    "\n",
    "data = pd.read_csv('all_hadiths_clean.csv', encoding='utf-8-sig')\n",
    "data.info()"
   ]
  },
  {
   "cell_type": "code",
   "execution_count": 95,
   "metadata": {},
   "outputs": [
    {
     "data": {
      "text/plain": [
       "'حدثنا أبو اليمان، قال أخبرنا شعيب، عن الزهري، قال أخبرني عامر بن سعد بن أبي وقاص، عن سعد، رضى الله عنه أن رسول الله صلى الله عليه وسلم أعطى رهطا وسعد جالس، فترك رسول الله صلى الله عليه وسلم رجلا هو أعجبهم إلى فقلت يا رسول الله ما لك عن فلان فوالله إني لأراه مؤمنا\\u200f.\\u200f فقال \\u200f\"\\u200f أو مسلما \\u200f\"\\u200f\\u200f.\\u200f فسكت قليلا، ثم غلبني ما أعلم منه فعدت لمقالتي فقلت ما لك عن فلان فوالله إني لأراه مؤمنا فقال \\u200f\"\\u200f أو مسلما \\u200f\"\\u200f\\u200f.\\u200f ثم غلبني ما أعلم منه فعدت لمقالتي وعاد رسول الله صلى الله عليه وسلم ثم قال \\u200f\"\\u200f يا سعد، إني لأعطي الرجل وغيره أحب إلى منه، خشية أن يكبه الله في النار \\u200f\"\\u200f\\u200f.\\u200f ورواه يونس وصالح ومعمر وابن أخي الزهري عن الزهري\\u200f.\\u200f'"
      ]
     },
     "execution_count": 95,
     "metadata": {},
     "output_type": "execute_result"
    }
   ],
   "source": [
    "data['text_ar'][26]"
   ]
  },
  {
   "cell_type": "code",
   "execution_count": 96,
   "metadata": {},
   "outputs": [],
   "source": [
    "data.drop('id',inplace=True,axis=1)\n",
    "data.drop('hadith_id',inplace=True,axis=1)\n",
    "data.drop('text_en',inplace=True,axis=1)\n",
    "data.drop('chain_indx',inplace=True,axis=1)\n"
   ]
  },
  {
   "cell_type": "code",
   "execution_count": 98,
   "metadata": {},
   "outputs": [
    {
     "name": "stdout",
     "output_type": "stream",
     "text": [
      "<class 'pandas.core.frame.DataFrame'>\n",
      "RangeIndex: 34441 entries, 0 to 34440\n",
      "Data columns (total 5 columns):\n",
      " #   Column      Non-Null Count  Dtype \n",
      "---  ------      --------------  ----- \n",
      " 0   source      34441 non-null  object\n",
      " 1   chapter_no  34441 non-null  int64 \n",
      " 2   hadith_no   34441 non-null  object\n",
      " 3   chapter     34441 non-null  object\n",
      " 4   text_ar     34433 non-null  object\n",
      "dtypes: int64(1), object(4)\n",
      "memory usage: 1.3+ MB\n"
     ]
    },
    {
     "data": {
      "text/plain": [
       "array([' Sahih Bukhari ', ' Sahih Muslim ', \" Sunan Abi Da'ud \",\n",
       "       \" Jami' al-Tirmidhi \", \" Sunan an-Nasa'i \", ' Sunan Ibn Majah '],\n",
       "      dtype=object)"
      ]
     },
     "execution_count": 98,
     "metadata": {},
     "output_type": "execute_result"
    }
   ],
   "source": [
    "data.info()\n",
    "pd.unique(data['source'])"
   ]
  },
  {
   "cell_type": "code",
   "execution_count": 99,
   "metadata": {},
   "outputs": [],
   "source": [
    "data['source'].replace(to_replace =' Sahih Bukhari ',\n",
    "                 value =\"صحيح البخاري\", regex=True, inplace=True)\n",
    "data['source'].replace(to_replace =' Sahih Muslim ',\n",
    "                 value =\"صحيح مسلم\", regex=True, inplace=True)\n",
    "data['source'].replace(to_replace =\" Sunan Abi Da'ud \",\n",
    "                 value =\"سنن أبي داود\", regex=True, inplace=True)\n",
    "data['source'].replace(to_replace =\" Jami' al-Tirmidhi \",\n",
    "                 value =\"سنن الترمذي\", regex=True, inplace=True)\n",
    "data['source'].replace(to_replace =\" Sunan an-Nasa'i \",\n",
    "                 value =\"سنن النسائي\", regex=True, inplace=True)\n",
    "data['source'].replace(to_replace =' Sunan Ibn Majah ',\n",
    "                 value =\"سنن ابن ماجه\", regex=True, inplace=True)\n"
   ]
  },
  {
   "cell_type": "code",
   "execution_count": 100,
   "metadata": {},
   "outputs": [
    {
     "data": {
      "text/plain": [
       "array(['صحيح البخاري', 'صحيح مسلم', 'سنن أبي داود', 'سنن الترمذي',\n",
       "       'سنن النسائي', 'سنن ابن ماجه'], dtype=object)"
      ]
     },
     "execution_count": 100,
     "metadata": {},
     "output_type": "execute_result"
    }
   ],
   "source": [
    "pd.unique(data['source'])\n"
   ]
  },
  {
   "cell_type": "code",
   "execution_count": 106,
   "metadata": {},
   "outputs": [
    {
     "data": {
      "text/plain": [
       "'حدثنا عبد الله بن مسلمة، عن مالك، عن زيد بن أسلم، عن عطاء بن يسار، عن ابن عباس، قال قال النبي صلى الله عليه وسلم أريت النار فإذا أكثر أهلها النساء يكفرن  قيل أيكفرن بالله قال يكفرن العشير، ويكفرن الإحسان، لو أحسنت إلى إحداهن الدهر ثم رأت منك شيئا قالت ما رأيت منك خيرا قط '"
      ]
     },
     "execution_count": 106,
     "metadata": {},
     "output_type": "execute_result"
    }
   ],
   "source": [
    "data['text_ar'][28]"
   ]
  },
  {
   "cell_type": "code",
   "execution_count": 103,
   "metadata": {},
   "outputs": [],
   "source": [
    "#get rid of : \\u200f.\\u200f \\u200f{\\u200f \\u200f\"\\u200f\\u200f.\\u200f\n",
    "\n",
    "data['text_ar'].replace(to_replace ='\\u200f\"\\u200f ',\n",
    "                 value =\"\", regex=True, inplace=True)\n",
    "data['text_ar'].replace(to_replace ='\\u200f.\\u200f',\n",
    "                 value =\"\", regex=True, inplace=True)\n",
    "data['text_ar'].replace(to_replace ='\\u200f{\\u200f',\n",
    "                 value =\"\", regex=True, inplace=True)\n",
    "data['text_ar'].replace(to_replace ='\\u200f\"\\u200f\\u200f.\\u200f ',\n",
    "                 value =\"\", regex=True, inplace=True)"
   ]
  },
  {
   "cell_type": "code",
   "execution_count": 46,
   "metadata": {},
   "outputs": [],
   "source": [
    "data.to_csv('Hadith_processed.csv')"
   ]
  },
  {
   "cell_type": "code",
   "execution_count": 47,
   "metadata": {},
   "outputs": [
    {
     "data": {
      "text/html": [
       "<div>\n",
       "<style scoped>\n",
       "    .dataframe tbody tr th:only-of-type {\n",
       "        vertical-align: middle;\n",
       "    }\n",
       "\n",
       "    .dataframe tbody tr th {\n",
       "        vertical-align: top;\n",
       "    }\n",
       "\n",
       "    .dataframe thead th {\n",
       "        text-align: right;\n",
       "    }\n",
       "</style>\n",
       "<table border=\"1\" class=\"dataframe\">\n",
       "  <thead>\n",
       "    <tr style=\"text-align: right;\">\n",
       "      <th></th>\n",
       "      <th>source</th>\n",
       "      <th>chapter_no</th>\n",
       "      <th>hadith_no</th>\n",
       "      <th>chapter</th>\n",
       "      <th>text_ar</th>\n",
       "    </tr>\n",
       "  </thead>\n",
       "  <tbody>\n",
       "    <tr>\n",
       "      <th>0</th>\n",
       "      <td>صحيح البخاري</td>\n",
       "      <td>1</td>\n",
       "      <td>1</td>\n",
       "      <td>Revelation - كتاب بدء الوحى</td>\n",
       "      <td>حدثنا الحميدي عبد الله بن الزبير، قال حدثنا سف...</td>\n",
       "    </tr>\n",
       "    <tr>\n",
       "      <th>1</th>\n",
       "      <td>صحيح البخاري</td>\n",
       "      <td>1</td>\n",
       "      <td>2</td>\n",
       "      <td>Revelation - كتاب بدء الوحى</td>\n",
       "      <td>حدثنا عبد الله بن يوسف، قال أخبرنا مالك، عن هش...</td>\n",
       "    </tr>\n",
       "    <tr>\n",
       "      <th>2</th>\n",
       "      <td>صحيح البخاري</td>\n",
       "      <td>1</td>\n",
       "      <td>3</td>\n",
       "      <td>Revelation - كتاب بدء الوحى</td>\n",
       "      <td>حدثنا يحيى بن بكير، قال حدثنا الليث، عن عقيل، ...</td>\n",
       "    </tr>\n",
       "    <tr>\n",
       "      <th>3</th>\n",
       "      <td>صحيح البخاري</td>\n",
       "      <td>1</td>\n",
       "      <td>4</td>\n",
       "      <td>Revelation - كتاب بدء الوحى</td>\n",
       "      <td>قال ابن شهاب وأخبرني أبو سلمة بن عبد الرحمن، أ...</td>\n",
       "    </tr>\n",
       "    <tr>\n",
       "      <th>4</th>\n",
       "      <td>صحيح البخاري</td>\n",
       "      <td>1</td>\n",
       "      <td>5</td>\n",
       "      <td>Revelation - كتاب بدء الوحى</td>\n",
       "      <td>حدثنا موسى بن إسماعيل، قال حدثنا أبو عوانة، قا...</td>\n",
       "    </tr>\n",
       "    <tr>\n",
       "      <th>5</th>\n",
       "      <td>صحيح البخاري</td>\n",
       "      <td>1</td>\n",
       "      <td>6</td>\n",
       "      <td>Revelation - كتاب بدء الوحى</td>\n",
       "      <td>حدثنا عبدان، قال أخبرنا عبد الله، قال أخبرنا ي...</td>\n",
       "    </tr>\n",
       "    <tr>\n",
       "      <th>6</th>\n",
       "      <td>صحيح البخاري</td>\n",
       "      <td>1</td>\n",
       "      <td>7</td>\n",
       "      <td>Revelation - كتاب بدء الوحى</td>\n",
       "      <td>حدثنا أبو اليمان الحكم بن نافع، قال أخبرنا شعي...</td>\n",
       "    </tr>\n",
       "    <tr>\n",
       "      <th>7</th>\n",
       "      <td>صحيح البخاري</td>\n",
       "      <td>2</td>\n",
       "      <td>8</td>\n",
       "      <td>Belief - كتاب الإيمان</td>\n",
       "      <td>حدثنا عبيد الله بن موسى، قال أخبرنا حنظلة بن أ...</td>\n",
       "    </tr>\n",
       "    <tr>\n",
       "      <th>8</th>\n",
       "      <td>صحيح البخاري</td>\n",
       "      <td>2</td>\n",
       "      <td>9</td>\n",
       "      <td>Belief - كتاب الإيمان</td>\n",
       "      <td>حدثنا عبد الله بن محمد، قال حدثنا أبو عامر الع...</td>\n",
       "    </tr>\n",
       "    <tr>\n",
       "      <th>9</th>\n",
       "      <td>صحيح البخاري</td>\n",
       "      <td>2</td>\n",
       "      <td>10</td>\n",
       "      <td>Belief - كتاب الإيمان</td>\n",
       "      <td>حدثنا آدم بن أبي إياس، قال حدثنا شعبة، عن عبد ...</td>\n",
       "    </tr>\n",
       "  </tbody>\n",
       "</table>\n",
       "</div>"
      ],
      "text/plain": [
       "         source  chapter_no hadith_no                      chapter  \\\n",
       "0  صحيح البخاري           1        1   Revelation - كتاب بدء الوحى   \n",
       "1  صحيح البخاري           1        2   Revelation - كتاب بدء الوحى   \n",
       "2  صحيح البخاري           1        3   Revelation - كتاب بدء الوحى   \n",
       "3  صحيح البخاري           1        4   Revelation - كتاب بدء الوحى   \n",
       "4  صحيح البخاري           1        5   Revelation - كتاب بدء الوحى   \n",
       "5  صحيح البخاري           1        6   Revelation - كتاب بدء الوحى   \n",
       "6  صحيح البخاري           1        7   Revelation - كتاب بدء الوحى   \n",
       "7  صحيح البخاري           2        8         Belief - كتاب الإيمان   \n",
       "8  صحيح البخاري           2        9         Belief - كتاب الإيمان   \n",
       "9  صحيح البخاري           2       10         Belief - كتاب الإيمان   \n",
       "\n",
       "                                             text_ar  \n",
       "0  حدثنا الحميدي عبد الله بن الزبير، قال حدثنا سف...  \n",
       "1  حدثنا عبد الله بن يوسف، قال أخبرنا مالك، عن هش...  \n",
       "2  حدثنا يحيى بن بكير، قال حدثنا الليث، عن عقيل، ...  \n",
       "3  قال ابن شهاب وأخبرني أبو سلمة بن عبد الرحمن، أ...  \n",
       "4  حدثنا موسى بن إسماعيل، قال حدثنا أبو عوانة، قا...  \n",
       "5  حدثنا عبدان، قال أخبرنا عبد الله، قال أخبرنا ي...  \n",
       "6  حدثنا أبو اليمان الحكم بن نافع، قال أخبرنا شعي...  \n",
       "7  حدثنا عبيد الله بن موسى، قال أخبرنا حنظلة بن أ...  \n",
       "8  حدثنا عبد الله بن محمد، قال حدثنا أبو عامر الع...  \n",
       "9  حدثنا آدم بن أبي إياس، قال حدثنا شعبة، عن عبد ...  "
      ]
     },
     "execution_count": 47,
     "metadata": {},
     "output_type": "execute_result"
    }
   ],
   "source": [
    "data[:10]"
   ]
  },
  {
   "cell_type": "code",
   "execution_count": 50,
   "metadata": {},
   "outputs": [
    {
     "data": {
      "text/plain": [
       "True"
      ]
     },
     "execution_count": 50,
     "metadata": {},
     "output_type": "execute_result"
    }
   ],
   "source": [
    "es = Elasticsearch([{'host': 'localhost', 'port': '9200'}])\n",
    "es.ping()"
   ]
  },
  {
   "cell_type": "code",
   "execution_count": 53,
   "metadata": {},
   "outputs": [
    {
     "data": {
      "text/plain": [
       "{'acknowledged': True, 'shards_acknowledged': True, 'index': 'hadith1'}"
      ]
     },
     "execution_count": 53,
     "metadata": {},
     "output_type": "execute_result"
    }
   ],
   "source": [
    "es.indices.create(index=\"hadith1\",ignore=400)"
   ]
  },
  {
   "cell_type": "code",
   "execution_count": 74,
   "metadata": {},
   "outputs": [],
   "source": [
    "import json \n",
    "\n",
    "def csv_to_json(csvFilePath, jsonFilePath):\n",
    "    jsonArray = []\n",
    "      \n",
    "    #read csv file\n",
    "    with open(csvFilePath, encoding='utf-8') as csvf: \n",
    "        #load csv file data using csv library's dictionary reader\n",
    "        csvReader = csv.DictReader(csvf) \n",
    "\n",
    "        #convert each csv row into python dict\n",
    "        for row in csvReader: \n",
    "            #add this python dict to json array\n",
    "            jsonArray.append(row)\n",
    "  \n",
    "    #convert python jsonArray to JSON String and write to file\n",
    "    with open(jsonFilePath, 'w', encoding='utf-8-sig') as jsonf: \n",
    "        jsonString = json.dumps(jsonArray, indent=4)\n",
    "        jsonf.write(jsonString)\n",
    "          \n",
    "csvFilePath = r'Hadith_processed.csv'\n",
    "jsonFilePath = r'json_hadith.json'\n",
    "csv_to_json(csvFilePath, jsonFilePath)"
   ]
  },
  {
   "cell_type": "code",
   "execution_count": 76,
   "metadata": {},
   "outputs": [
    {
     "data": {
      "text/plain": [
       "{'': '7',\n",
       " 'source': 'صحيح البخاري',\n",
       " 'chapter_no': '2',\n",
       " 'hadith_no': ' 8 ',\n",
       " 'chapter': 'Belief - كتاب الإيمان',\n",
       " 'text_ar': 'حدثنا عبيد الله بن موسى، قال أخبرنا حنظلة بن أبي سفيان، عن عكرمة بن خالد، عن ابن عمر  رضى الله عنهما  قال قال رسول الله صلى الله عليه وسلم  بني الإسلام على خمس شهادة أن لا إله إلا الله وأن محمدا رسول الله، وإقام الصلاة، وإيتاء الزكاة، والحج، وصوم رمضان '}"
      ]
     },
     "execution_count": 76,
     "metadata": {},
     "output_type": "execute_result"
    }
   ],
   "source": [
    "hadith = codecs.open('json_hadith.json', 'r', 'utf-8-sig')\n",
    "\n",
    "json_hadith = json.load(hadith)\n",
    "\n",
    "json_hadith[7]"
   ]
  },
  {
   "cell_type": "code",
   "execution_count": 86,
   "metadata": {},
   "outputs": [
    {
     "data": {
      "text/plain": [
       "{'': '26',\n",
       " 'source': 'صحيح البخاري',\n",
       " 'chapter_no': '2',\n",
       " 'hadith_no': ' 27 ',\n",
       " 'chapter': 'Belief - كتاب الإيمان',\n",
       " 'text_ar': 'حدثنا أبو اليمان، قال أخبرنا شعيب، عن الزهري، قال أخبرني عامر بن سعد بن أبي وقاص، عن سعد، رضى الله عنه أن رسول الله صلى الله عليه وسلم أعطى رهطا وسعد جالس، فترك رسول الله صلى الله عليه وسلم رجلا هو أعجبهم إلى فقلت يا رسول الله ما لك عن فلان فوالله إني لأراه مؤمنا فقال  أو مسلما  فسكت قليلا، ثم غلبني ما أعلم منه فعدت لمقالتي فقلت ما لك عن فلان فوالله إني لأراه مؤمنا فقال  أو مسلما  ثم غلبني ما أعلم منه فعدت لمقالتي وعاد رسول الله صلى الله عليه وسلم ثم قال  يا سعد، إني لأعطي الرجل وغيره أحب إلى منه، خشية أن يكبه الله في النار  ورواه يونس وصالح ومعمر وابن أخي الزهري عن الزهري'}"
      ]
     },
     "execution_count": 86,
     "metadata": {},
     "output_type": "execute_result"
    }
   ],
   "source": [
    "json_hadith[26]"
   ]
  },
  {
   "cell_type": "code",
   "execution_count": 56,
   "metadata": {},
   "outputs": [],
   "source": [
    "\n",
    "with open('Hadith_processed.csv', 'r',encoding='utf-8') as f:\n",
    "    reader = csv.DictReader(f)\n",
    "    for obj in reader: \n",
    "        es.index(index='hadith1',body=obj, ignore=400)"
   ]
  },
  {
   "cell_type": "code",
   "execution_count": 61,
   "metadata": {},
   "outputs": [],
   "source": [
    "query_body = {\n",
    "  \"size\":1000,\n",
    "  \"query\": {\n",
    "    \"match\": {\n",
    "      \"text_ar\": {\n",
    "        \"query\":\"الكافرون\"\n",
    "      }\n",
    "    }\n",
    "  }\n",
    "}"
   ]
  },
  {
   "cell_type": "code",
   "execution_count": 62,
   "metadata": {},
   "outputs": [
    {
     "data": {
      "text/plain": [
       "{'took': 21,\n",
       " 'timed_out': False,\n",
       " '_shards': {'total': 1, 'successful': 1, 'skipped': 0, 'failed': 0},\n",
       " 'hits': {'total': {'value': 0, 'relation': 'eq'},\n",
       "  'max_score': None,\n",
       "  'hits': []}}"
      ]
     },
     "execution_count": 62,
     "metadata": {},
     "output_type": "execute_result"
    }
   ],
   "source": [
    "es.search(index=\"hadith1\", body=query_body)"
   ]
  }
 ],
 "metadata": {
  "kernelspec": {
   "display_name": "Python 3",
   "language": "python",
   "name": "python3"
  },
  "language_info": {
   "codemirror_mode": {
    "name": "ipython",
    "version": 3
   },
   "file_extension": ".py",
   "mimetype": "text/x-python",
   "name": "python",
   "nbconvert_exporter": "python",
   "pygments_lexer": "ipython3",
   "version": "3.8.3"
  }
 },
 "nbformat": 4,
 "nbformat_minor": 4
}
